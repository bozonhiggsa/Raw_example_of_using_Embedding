{
  "nbformat": 4,
  "nbformat_minor": 0,
  "metadata": {
    "colab": {
      "name": "Embedding_FunctionalAPI.ipynb",
      "provenance": [],
      "collapsed_sections": []
    },
    "kernelspec": {
      "name": "python3",
      "display_name": "Python 3"
    },
    "language_info": {
      "name": "python"
    }
  },
  "cells": [
    {
      "cell_type": "markdown",
      "metadata": {
        "id": "vEdO8DqgUKzD"
      },
      "source": [
        "# Task - Predicting the price of wine\n",
        "\n",
        "### We need to we predict the price of a bottle of wine from its description and variety"
      ]
    },
    {
      "cell_type": "code",
      "metadata": {
        "colab": {
          "base_uri": "https://localhost:8080/"
        },
        "id": "eGNnA48NSpm4",
        "outputId": "b02d051a-cea1-40e9-aa5d-3da447b108f5"
      },
      "source": [
        "import os\n",
        "import numpy as np\n",
        "import pandas as pd\n",
        "import tensorflow as tf\n",
        "\n",
        "from sklearn.preprocessing import LabelEncoder\n",
        "from sklearn.model_selection import train_test_split\n",
        "\n",
        "from tensorflow import keras\n",
        "layers = keras.layers\n",
        "\n",
        "print(\"TensorFlow version\", tf.__version__)"
      ],
      "execution_count": null,
      "outputs": [
        {
          "output_type": "stream",
          "name": "stdout",
          "text": [
            "TensorFlow version 2.6.0\n"
          ]
        }
      ]
    },
    {
      "cell_type": "code",
      "metadata": {
        "colab": {
          "base_uri": "https://localhost:8080/",
          "height": 397
        },
        "id": "d_7KNd7UVgTd",
        "outputId": "a27f6a6c-b637-41f5-c789-8924095874a9"
      },
      "source": [
        "# Download the data and convert it to a Pandas DataFrame\n",
        "\n",
        "!wget -q https://storage.googleapis.com/sara-cloud-ml/wine_data.csv\n",
        "\n",
        "data_df_original = pd.read_csv(\"wine_data.csv\")\n",
        "data_df_original.head()"
      ],
      "execution_count": null,
      "outputs": [
        {
          "output_type": "execute_result",
          "data": {
            "text/html": [
              "<div>\n",
              "<style scoped>\n",
              "    .dataframe tbody tr th:only-of-type {\n",
              "        vertical-align: middle;\n",
              "    }\n",
              "\n",
              "    .dataframe tbody tr th {\n",
              "        vertical-align: top;\n",
              "    }\n",
              "\n",
              "    .dataframe thead th {\n",
              "        text-align: right;\n",
              "    }\n",
              "</style>\n",
              "<table border=\"1\" class=\"dataframe\">\n",
              "  <thead>\n",
              "    <tr style=\"text-align: right;\">\n",
              "      <th></th>\n",
              "      <th>Unnamed: 0</th>\n",
              "      <th>country</th>\n",
              "      <th>description</th>\n",
              "      <th>designation</th>\n",
              "      <th>points</th>\n",
              "      <th>price</th>\n",
              "      <th>province</th>\n",
              "      <th>region_1</th>\n",
              "      <th>region_2</th>\n",
              "      <th>variety</th>\n",
              "      <th>winery</th>\n",
              "    </tr>\n",
              "  </thead>\n",
              "  <tbody>\n",
              "    <tr>\n",
              "      <th>0</th>\n",
              "      <td>0</td>\n",
              "      <td>US</td>\n",
              "      <td>This tremendous 100% varietal wine hails from ...</td>\n",
              "      <td>Martha's Vineyard</td>\n",
              "      <td>96</td>\n",
              "      <td>235.0</td>\n",
              "      <td>California</td>\n",
              "      <td>Napa Valley</td>\n",
              "      <td>Napa</td>\n",
              "      <td>Cabernet Sauvignon</td>\n",
              "      <td>Heitz</td>\n",
              "    </tr>\n",
              "    <tr>\n",
              "      <th>1</th>\n",
              "      <td>1</td>\n",
              "      <td>Spain</td>\n",
              "      <td>Ripe aromas of fig, blackberry and cassis are ...</td>\n",
              "      <td>Carodorum Selección Especial Reserva</td>\n",
              "      <td>96</td>\n",
              "      <td>110.0</td>\n",
              "      <td>Northern Spain</td>\n",
              "      <td>Toro</td>\n",
              "      <td>NaN</td>\n",
              "      <td>Tinta de Toro</td>\n",
              "      <td>Bodega Carmen Rodríguez</td>\n",
              "    </tr>\n",
              "    <tr>\n",
              "      <th>2</th>\n",
              "      <td>2</td>\n",
              "      <td>US</td>\n",
              "      <td>Mac Watson honors the memory of a wine once ma...</td>\n",
              "      <td>Special Selected Late Harvest</td>\n",
              "      <td>96</td>\n",
              "      <td>90.0</td>\n",
              "      <td>California</td>\n",
              "      <td>Knights Valley</td>\n",
              "      <td>Sonoma</td>\n",
              "      <td>Sauvignon Blanc</td>\n",
              "      <td>Macauley</td>\n",
              "    </tr>\n",
              "    <tr>\n",
              "      <th>3</th>\n",
              "      <td>3</td>\n",
              "      <td>US</td>\n",
              "      <td>This spent 20 months in 30% new French oak, an...</td>\n",
              "      <td>Reserve</td>\n",
              "      <td>96</td>\n",
              "      <td>65.0</td>\n",
              "      <td>Oregon</td>\n",
              "      <td>Willamette Valley</td>\n",
              "      <td>Willamette Valley</td>\n",
              "      <td>Pinot Noir</td>\n",
              "      <td>Ponzi</td>\n",
              "    </tr>\n",
              "    <tr>\n",
              "      <th>4</th>\n",
              "      <td>4</td>\n",
              "      <td>France</td>\n",
              "      <td>This is the top wine from La Bégude, named aft...</td>\n",
              "      <td>La Brûlade</td>\n",
              "      <td>95</td>\n",
              "      <td>66.0</td>\n",
              "      <td>Provence</td>\n",
              "      <td>Bandol</td>\n",
              "      <td>NaN</td>\n",
              "      <td>Provence red blend</td>\n",
              "      <td>Domaine de la Bégude</td>\n",
              "    </tr>\n",
              "  </tbody>\n",
              "</table>\n",
              "</div>"
            ],
            "text/plain": [
              "   Unnamed: 0 country  ...             variety                   winery\n",
              "0           0      US  ...  Cabernet Sauvignon                    Heitz\n",
              "1           1   Spain  ...       Tinta de Toro  Bodega Carmen Rodríguez\n",
              "2           2      US  ...     Sauvignon Blanc                 Macauley\n",
              "3           3      US  ...          Pinot Noir                    Ponzi\n",
              "4           4  France  ...  Provence red blend     Domaine de la Bégude\n",
              "\n",
              "[5 rows x 11 columns]"
            ]
          },
          "metadata": {},
          "execution_count": 25
        }
      ]
    },
    {
      "cell_type": "code",
      "metadata": {
        "colab": {
          "base_uri": "https://localhost:8080/",
          "height": 206
        },
        "id": "qiWoyuA_Wc2X",
        "outputId": "0e214ead-d54f-4866-c6f5-4c3f7caa7548"
      },
      "source": [
        "data_df = data_df_original[['variety', 'description', 'price']]\n",
        "data_df.head()"
      ],
      "execution_count": null,
      "outputs": [
        {
          "output_type": "execute_result",
          "data": {
            "text/html": [
              "<div>\n",
              "<style scoped>\n",
              "    .dataframe tbody tr th:only-of-type {\n",
              "        vertical-align: middle;\n",
              "    }\n",
              "\n",
              "    .dataframe tbody tr th {\n",
              "        vertical-align: top;\n",
              "    }\n",
              "\n",
              "    .dataframe thead th {\n",
              "        text-align: right;\n",
              "    }\n",
              "</style>\n",
              "<table border=\"1\" class=\"dataframe\">\n",
              "  <thead>\n",
              "    <tr style=\"text-align: right;\">\n",
              "      <th></th>\n",
              "      <th>variety</th>\n",
              "      <th>description</th>\n",
              "      <th>price</th>\n",
              "    </tr>\n",
              "  </thead>\n",
              "  <tbody>\n",
              "    <tr>\n",
              "      <th>0</th>\n",
              "      <td>Cabernet Sauvignon</td>\n",
              "      <td>This tremendous 100% varietal wine hails from ...</td>\n",
              "      <td>235.0</td>\n",
              "    </tr>\n",
              "    <tr>\n",
              "      <th>1</th>\n",
              "      <td>Tinta de Toro</td>\n",
              "      <td>Ripe aromas of fig, blackberry and cassis are ...</td>\n",
              "      <td>110.0</td>\n",
              "    </tr>\n",
              "    <tr>\n",
              "      <th>2</th>\n",
              "      <td>Sauvignon Blanc</td>\n",
              "      <td>Mac Watson honors the memory of a wine once ma...</td>\n",
              "      <td>90.0</td>\n",
              "    </tr>\n",
              "    <tr>\n",
              "      <th>3</th>\n",
              "      <td>Pinot Noir</td>\n",
              "      <td>This spent 20 months in 30% new French oak, an...</td>\n",
              "      <td>65.0</td>\n",
              "    </tr>\n",
              "    <tr>\n",
              "      <th>4</th>\n",
              "      <td>Provence red blend</td>\n",
              "      <td>This is the top wine from La Bégude, named aft...</td>\n",
              "      <td>66.0</td>\n",
              "    </tr>\n",
              "  </tbody>\n",
              "</table>\n",
              "</div>"
            ],
            "text/plain": [
              "              variety                                        description  price\n",
              "0  Cabernet Sauvignon  This tremendous 100% varietal wine hails from ...  235.0\n",
              "1       Tinta de Toro  Ripe aromas of fig, blackberry and cassis are ...  110.0\n",
              "2     Sauvignon Blanc  Mac Watson honors the memory of a wine once ma...   90.0\n",
              "3          Pinot Noir  This spent 20 months in 30% new French oak, an...   65.0\n",
              "4  Provence red blend  This is the top wine from La Bégude, named aft...   66.0"
            ]
          },
          "metadata": {},
          "execution_count": 26
        }
      ]
    },
    {
      "cell_type": "code",
      "metadata": {
        "colab": {
          "base_uri": "https://localhost:8080/"
        },
        "id": "DHPTuDV0W9Cj",
        "outputId": "0013ef8e-ed17-4936-8128-551b7ea82448"
      },
      "source": [
        "data_df.info()"
      ],
      "execution_count": null,
      "outputs": [
        {
          "output_type": "stream",
          "name": "stdout",
          "text": [
            "<class 'pandas.core.frame.DataFrame'>\n",
            "RangeIndex: 150929 entries, 0 to 150928\n",
            "Data columns (total 3 columns):\n",
            " #   Column       Non-Null Count   Dtype  \n",
            "---  ------       --------------   -----  \n",
            " 0   variety      150929 non-null  object \n",
            " 1   description  150929 non-null  object \n",
            " 2   price        137234 non-null  float64\n",
            "dtypes: float64(1), object(2)\n",
            "memory usage: 3.5+ MB\n"
          ]
        }
      ]
    },
    {
      "cell_type": "code",
      "metadata": {
        "colab": {
          "base_uri": "https://localhost:8080/"
        },
        "id": "ehm2rre4XBNB",
        "outputId": "411fd181-c1b9-44c8-c1a9-b37054a701f9"
      },
      "source": [
        "data_df.price.value_counts(dropna=False)"
      ],
      "execution_count": null,
      "outputs": [
        {
          "output_type": "execute_result",
          "data": {
            "text/plain": [
              "NaN       13695\n",
              "20.0       7860\n",
              "15.0       7056\n",
              "18.0       5988\n",
              "25.0       5955\n",
              "          ...  \n",
              "1200.0        1\n",
              "162.0         1\n",
              "588.0         1\n",
              "1900.0        1\n",
              "172.0         1\n",
              "Name: price, Length: 358, dtype: int64"
            ]
          },
          "metadata": {},
          "execution_count": 28
        }
      ]
    },
    {
      "cell_type": "code",
      "metadata": {
        "colab": {
          "base_uri": "https://localhost:8080/"
        },
        "id": "J4aj_T2CXWxE",
        "outputId": "0edd6854-dd48-400f-ba00-638df994bfb6"
      },
      "source": [
        "data_df.dropna(inplace=True)\n",
        "data_df.info()"
      ],
      "execution_count": null,
      "outputs": [
        {
          "output_type": "stream",
          "name": "stdout",
          "text": [
            "<class 'pandas.core.frame.DataFrame'>\n",
            "Int64Index: 137234 entries, 0 to 150928\n",
            "Data columns (total 3 columns):\n",
            " #   Column       Non-Null Count   Dtype  \n",
            "---  ------       --------------   -----  \n",
            " 0   variety      137234 non-null  object \n",
            " 1   description  137234 non-null  object \n",
            " 2   price        137234 non-null  float64\n",
            "dtypes: float64(1), object(2)\n",
            "memory usage: 4.2+ MB\n"
          ]
        },
        {
          "output_type": "stream",
          "name": "stderr",
          "text": [
            "/usr/local/lib/python3.7/dist-packages/ipykernel_launcher.py:1: SettingWithCopyWarning: \n",
            "A value is trying to be set on a copy of a slice from a DataFrame\n",
            "\n",
            "See the caveats in the documentation: https://pandas.pydata.org/pandas-docs/stable/user_guide/indexing.html#returning-a-view-versus-a-copy\n",
            "  \"\"\"Entry point for launching an IPython kernel.\n"
          ]
        }
      ]
    },
    {
      "cell_type": "code",
      "metadata": {
        "colab": {
          "base_uri": "https://localhost:8080/"
        },
        "id": "pj5CrlDq0JZ2",
        "outputId": "89e35c11-1bba-42c3-c591-8e51f5b2c423"
      },
      "source": [
        "# We have 632 varietals of wine in the original dataset\n",
        "\n",
        "data_df_original.variety.value_counts()"
      ],
      "execution_count": null,
      "outputs": [
        {
          "output_type": "execute_result",
          "data": {
            "text/plain": [
              "Chardonnay                  14482\n",
              "Pinot Noir                  14291\n",
              "Cabernet Sauvignon          12800\n",
              "Red Blend                   10062\n",
              "Bordeaux-style Red Blend     7347\n",
              "                            ...  \n",
              "Rabigato                        1\n",
              "Moscatel Graúdo                 1\n",
              "Grenache Gris                   1\n",
              "Chardonnay-Pinot Grigio         1\n",
              "Syrah-Carignan                  1\n",
              "Name: variety, Length: 632, dtype: int64"
            ]
          },
          "metadata": {},
          "execution_count": 30
        }
      ]
    },
    {
      "cell_type": "code",
      "metadata": {
        "colab": {
          "base_uri": "https://localhost:8080/"
        },
        "id": "Y6CsKjXn0RSa",
        "outputId": "756fb226-04de-4d73-eb5f-5371c58d5de3"
      },
      "source": [
        "# And we have 619 varietals of wine in the restricted dataset\n",
        "\n",
        "data_df.variety.value_counts()"
      ],
      "execution_count": null,
      "outputs": [
        {
          "output_type": "execute_result",
          "data": {
            "text/plain": [
              "Chardonnay               13775\n",
              "Pinot Noir               13628\n",
              "Cabernet Sauvignon       12671\n",
              "Red Blend                 9378\n",
              "Sauvignon Blanc           6054\n",
              "                         ...  \n",
              "Magliocco                    1\n",
              "Malvazija                    1\n",
              "Silvaner-Traminer            1\n",
              "Bombino Bianco               1\n",
              "Cabernet Franc-Malbec        1\n",
              "Name: variety, Length: 619, dtype: int64"
            ]
          },
          "metadata": {},
          "execution_count": 31
        }
      ]
    },
    {
      "cell_type": "code",
      "metadata": {
        "colab": {
          "base_uri": "https://localhost:8080/"
        },
        "id": "mtAfK0kD0YGo",
        "outputId": "483bcf53-c50f-4e94-c196-9a9db53af478"
      },
      "source": [
        "# To make it easier for our models to extract patterns,\n",
        "# let's keep only records with the top 40 varietals\n",
        "\n",
        "top_varietals = 40\n",
        "value_counts = data_df['variety'].value_counts()\n",
        "value_counts[top_varietals-1]"
      ],
      "execution_count": null,
      "outputs": [
        {
          "output_type": "execute_result",
          "data": {
            "text/plain": [
              "515"
            ]
          },
          "metadata": {},
          "execution_count": 32
        }
      ]
    },
    {
      "cell_type": "code",
      "metadata": {
        "colab": {
          "base_uri": "https://localhost:8080/"
        },
        "id": "9ap10bBb1P-U",
        "outputId": "d94d52fb-f379-444d-cb2b-98eb3f1293f7"
      },
      "source": [
        "variety_threshold = value_counts[top_varietals-1] - 1\n",
        "to_remove = value_counts[value_counts <= variety_threshold].index\n",
        "data_df.replace(to_remove, np.nan, inplace=True)\n",
        "data_df.dropna(inplace=True)\n",
        "data_df.info()"
      ],
      "execution_count": null,
      "outputs": [
        {
          "output_type": "stream",
          "name": "stdout",
          "text": [
            "<class 'pandas.core.frame.DataFrame'>\n",
            "Int64Index: 119562 entries, 0 to 150928\n",
            "Data columns (total 3 columns):\n",
            " #   Column       Non-Null Count   Dtype  \n",
            "---  ------       --------------   -----  \n",
            " 0   variety      119562 non-null  object \n",
            " 1   description  119562 non-null  object \n",
            " 2   price        119562 non-null  float64\n",
            "dtypes: float64(1), object(2)\n",
            "memory usage: 3.6+ MB\n"
          ]
        },
        {
          "output_type": "stream",
          "name": "stderr",
          "text": [
            "/usr/local/lib/python3.7/dist-packages/pandas/core/frame.py:4389: SettingWithCopyWarning: \n",
            "A value is trying to be set on a copy of a slice from a DataFrame\n",
            "\n",
            "See the caveats in the documentation: https://pandas.pydata.org/pandas-docs/stable/user_guide/indexing.html#returning-a-view-versus-a-copy\n",
            "  method=method,\n",
            "/usr/local/lib/python3.7/dist-packages/ipykernel_launcher.py:4: SettingWithCopyWarning: \n",
            "A value is trying to be set on a copy of a slice from a DataFrame\n",
            "\n",
            "See the caveats in the documentation: https://pandas.pydata.org/pandas-docs/stable/user_guide/indexing.html#returning-a-view-versus-a-copy\n",
            "  after removing the cwd from sys.path.\n"
          ]
        }
      ]
    },
    {
      "cell_type": "code",
      "metadata": {
        "colab": {
          "base_uri": "https://localhost:8080/"
        },
        "id": "OMSu2vbb2zfn",
        "outputId": "e82bbce2-2da9-4c31-d74c-1437908cbb48"
      },
      "source": [
        "data_df.variety.value_counts()"
      ],
      "execution_count": null,
      "outputs": [
        {
          "output_type": "execute_result",
          "data": {
            "text/plain": [
              "Chardonnay                       13775\n",
              "Pinot Noir                       13628\n",
              "Cabernet Sauvignon               12671\n",
              "Red Blend                         9378\n",
              "Sauvignon Blanc                   6054\n",
              "Syrah                             5667\n",
              "Riesling                          5212\n",
              "Merlot                            4987\n",
              "Bordeaux-style Red Blend          4545\n",
              "Zinfandel                         3794\n",
              "Malbec                            3085\n",
              "Sangiovese                        2879\n",
              "White Blend                       2554\n",
              "Tempranillo                       2525\n",
              "Rosé                              2461\n",
              "Shiraz                            1945\n",
              "Sparkling Blend                   1820\n",
              "Portuguese Red                    1812\n",
              "Nebbiolo                          1529\n",
              "Rhône-style Red Blend             1455\n",
              "Cabernet Franc                    1310\n",
              "Corvina, Rondinella, Molinara     1292\n",
              "Pinot Gris                        1275\n",
              "Pinot Grigio                      1270\n",
              "Viognier                          1254\n",
              "Champagne Blend                   1003\n",
              "Barbera                            967\n",
              "Sangiovese Grosso                  938\n",
              "Petite Sirah                       897\n",
              "Gewürztraminer                     891\n",
              "Grüner Veltliner                   842\n",
              "Port                               791\n",
              "Carmenère                          746\n",
              "Tempranillo Blend                  734\n",
              "Portuguese White                   716\n",
              "Chenin Blanc                       639\n",
              "Grenache                           596\n",
              "Bordeaux-style White Blend         580\n",
              "Albariño                           530\n",
              "Prosecco                           515\n",
              "Name: variety, dtype: int64"
            ]
          },
          "metadata": {},
          "execution_count": 34
        }
      ]
    },
    {
      "cell_type": "code",
      "metadata": {
        "id": "m8QL0_Pjq4Zr"
      },
      "source": [
        "# To use less RAM we need to restrain the dataset\n",
        "\n",
        "data_df = data_df[:30000]"
      ],
      "execution_count": null,
      "outputs": []
    },
    {
      "cell_type": "code",
      "metadata": {
        "id": "fte7YwKcYC11"
      },
      "source": [
        "random_state = 42\n",
        "\n",
        "train_full_df, test_df = train_test_split(data_df, random_state=random_state, test_size=0.2)\n",
        "y_test_df = test_df['price']\n",
        "X_test_df = test_df.drop(columns=['price'])\n",
        "\n",
        "X_train_df, X_val_df, y_train_df, y_val_df = train_test_split(train_full_df[['variety', 'description']],\n",
        "                                                              train_full_df['price'], random_state=random_state, test_size=0.2)"
      ],
      "execution_count": null,
      "outputs": []
    },
    {
      "cell_type": "code",
      "metadata": {
        "id": "Qvl1I-mJa6qm"
      },
      "source": [
        "# To learn Tokenizer on feature 'description'\n",
        "\n",
        "vocab_size = 12000\n",
        "tokenize = keras.preprocessing.text.Tokenizer(num_words=vocab_size)\n",
        "tokenize.fit_on_texts(X_train_df['description'])"
      ],
      "execution_count": null,
      "outputs": []
    },
    {
      "cell_type": "code",
      "metadata": {
        "id": "y3xfO5DIprmq"
      },
      "source": [
        "# To get a bag of words (each element 0 or 1) as Numpy matrix\n",
        "description_bow_train = tokenize.texts_to_matrix(X_train_df['description'])\n",
        "description_bow_val = tokenize.texts_to_matrix(X_val_df['description'])\n",
        "description_bow_test = tokenize.texts_to_matrix(X_test_df['description'])"
      ],
      "execution_count": null,
      "outputs": []
    },
    {
      "cell_type": "code",
      "metadata": {
        "colab": {
          "base_uri": "https://localhost:8080/"
        },
        "id": "CeoXQr36rVPy",
        "outputId": "87c7b196-2b3f-459b-f113-97c4ac7e18ec"
      },
      "source": [
        "description_bow_train.shape"
      ],
      "execution_count": null,
      "outputs": [
        {
          "output_type": "execute_result",
          "data": {
            "text/plain": [
              "(19200, 12000)"
            ]
          },
          "metadata": {},
          "execution_count": 39
        }
      ]
    },
    {
      "cell_type": "code",
      "metadata": {
        "colab": {
          "base_uri": "https://localhost:8080/"
        },
        "id": "zlnDefc4raZy",
        "outputId": "ec4243f9-eec5-455b-a84f-0035c0d07b37"
      },
      "source": [
        "description_bow_train[0]"
      ],
      "execution_count": null,
      "outputs": [
        {
          "output_type": "execute_result",
          "data": {
            "text/plain": [
              "array([0., 1., 1., ..., 0., 0., 0.])"
            ]
          },
          "metadata": {},
          "execution_count": 40
        }
      ]
    },
    {
      "cell_type": "code",
      "metadata": {
        "colab": {
          "base_uri": "https://localhost:8080/"
        },
        "id": "PyUphBUVuora",
        "outputId": "af0db091-4403-4d65-c503-678aa73dbd14"
      },
      "source": [
        "# Convert feature 'variety' to classes (ints)\n",
        "\n",
        "encoder = LabelEncoder()\n",
        "encoder.fit(data_df['variety'])\n",
        "variety_train = encoder.transform(X_train_df['variety'])\n",
        "variety_val = encoder.transform(X_val_df['variety'])\n",
        "variety_test = encoder.transform(X_test_df['variety'])\n",
        "num_classes = np.max(variety_train) + 1\n",
        "num_classes"
      ],
      "execution_count": null,
      "outputs": [
        {
          "output_type": "execute_result",
          "data": {
            "text/plain": [
              "40"
            ]
          },
          "metadata": {},
          "execution_count": 41
        }
      ]
    },
    {
      "cell_type": "code",
      "metadata": {
        "colab": {
          "base_uri": "https://localhost:8080/"
        },
        "id": "bjzGaEbCxu1P",
        "outputId": "97bc0c61-7ef8-416d-b2c6-17e5de424d1c"
      },
      "source": [
        "variety_train[:3]"
      ],
      "execution_count": null,
      "outputs": [
        {
          "output_type": "execute_result",
          "data": {
            "text/plain": [
              "array([20, 34, 27])"
            ]
          },
          "metadata": {},
          "execution_count": 42
        }
      ]
    },
    {
      "cell_type": "code",
      "metadata": {
        "colab": {
          "base_uri": "https://localhost:8080/"
        },
        "id": "yGTc64yF4Key",
        "outputId": "6ee372b7-1490-45dc-f9a8-0ba6bc9ae5ea"
      },
      "source": [
        "# Convert ints to one hot\n",
        "\n",
        "variety_train = keras.utils.to_categorical(variety_train, num_classes)\n",
        "variety_val = keras.utils.to_categorical(variety_val, num_classes)\n",
        "variety_test = keras.utils.to_categorical(variety_test, num_classes)\n",
        "variety_train[:1]"
      ],
      "execution_count": null,
      "outputs": [
        {
          "output_type": "execute_result",
          "data": {
            "text/plain": [
              "array([[0., 0., 0., 0., 0., 0., 0., 0., 0., 0., 0., 0., 0., 0., 0., 0.,\n",
              "        0., 0., 0., 0., 1., 0., 0., 0., 0., 0., 0., 0., 0., 0., 0., 0.,\n",
              "        0., 0., 0., 0., 0., 0., 0., 0.]], dtype=float32)"
            ]
          },
          "metadata": {},
          "execution_count": 43
        }
      ]
    },
    {
      "cell_type": "code",
      "metadata": {
        "id": "TfFUWDeO7d4C"
      },
      "source": [
        "# Create the wide model using Functional API\n",
        "\n",
        "bow_inputs = layers.Input(shape=(vocab_size,))\n",
        "variety_inputs = layers.Input(shape=(num_classes,))\n",
        "merged_input = layers.concatenate([bow_inputs, variety_inputs])\n",
        "dense_layer = layers.Dense(256, activation='relu')(merged_input)\n",
        "output = layers.Dense(1, activation='linear')(dense_layer)\n",
        "wide_model = keras.Model(inputs=(bow_inputs, variety_inputs), outputs=output)"
      ],
      "execution_count": null,
      "outputs": []
    },
    {
      "cell_type": "code",
      "metadata": {
        "colab": {
          "base_uri": "https://localhost:8080/"
        },
        "id": "Jecqm-tt8okL",
        "outputId": "b5af5cfc-cc9b-4944-e03e-e96964fa6c23"
      },
      "source": [
        "wide_model.compile(loss='mse', optimizer='nadam', metrics=['mae'])\n",
        "wide_model.summary()"
      ],
      "execution_count": null,
      "outputs": [
        {
          "output_type": "stream",
          "name": "stdout",
          "text": [
            "Model: \"model_1\"\n",
            "__________________________________________________________________________________________________\n",
            "Layer (type)                    Output Shape         Param #     Connected to                     \n",
            "==================================================================================================\n",
            "input_3 (InputLayer)            [(None, 12000)]      0                                            \n",
            "__________________________________________________________________________________________________\n",
            "input_4 (InputLayer)            [(None, 40)]         0                                            \n",
            "__________________________________________________________________________________________________\n",
            "concatenate_1 (Concatenate)     (None, 12040)        0           input_3[0][0]                    \n",
            "                                                                 input_4[0][0]                    \n",
            "__________________________________________________________________________________________________\n",
            "dense_2 (Dense)                 (None, 256)          3082496     concatenate_1[0][0]              \n",
            "__________________________________________________________________________________________________\n",
            "dense_3 (Dense)                 (None, 1)            257         dense_2[0][0]                    \n",
            "==================================================================================================\n",
            "Total params: 3,082,753\n",
            "Trainable params: 3,082,753\n",
            "Non-trainable params: 0\n",
            "__________________________________________________________________________________________________\n"
          ]
        }
      ]
    },
    {
      "cell_type": "code",
      "metadata": {
        "id": "zVPWK5ri8xOP",
        "colab": {
          "base_uri": "https://localhost:8080/"
        },
        "outputId": "68a0e691-37ae-4c34-aed0-f0971c048792"
      },
      "source": [
        "history = wide_model.fit(x=(description_bow_train, variety_train), y=y_train_df,\n",
        "                         batch_size=32, epochs=3, validation_data=((description_bow_val, variety_val), y_val_df))"
      ],
      "execution_count": null,
      "outputs": [
        {
          "output_type": "stream",
          "name": "stdout",
          "text": [
            "Epoch 1/3\n",
            "600/600 [==============================] - 36s 58ms/step - loss: 1366.4845 - mae: 18.2182 - val_loss: 3163.9478 - val_mae: 17.6658\n",
            "Epoch 2/3\n",
            "600/600 [==============================] - 34s 56ms/step - loss: 1085.0465 - mae: 15.8295 - val_loss: 3079.8633 - val_mae: 18.3322\n",
            "Epoch 3/3\n",
            "600/600 [==============================] - 34s 57ms/step - loss: 970.9873 - mae: 15.3530 - val_loss: 3057.5703 - val_mae: 19.9956\n"
          ]
        }
      ]
    },
    {
      "cell_type": "code",
      "metadata": {
        "id": "-zAGjsKpCDnf",
        "colab": {
          "base_uri": "https://localhost:8080/"
        },
        "outputId": "d2113437-1ade-4770-a9f9-c23f96c9dbda"
      },
      "source": [
        "wide_model.evaluate(x=(description_bow_test, variety_test), y=y_test_df)"
      ],
      "execution_count": null,
      "outputs": [
        {
          "output_type": "stream",
          "name": "stdout",
          "text": [
            "188/188 [==============================] - 2s 9ms/step - loss: 2828.3433 - mae: 19.1273\n"
          ]
        },
        {
          "output_type": "execute_result",
          "data": {
            "text/plain": [
              "[2828.34326171875, 19.127315521240234]"
            ]
          },
          "metadata": {},
          "execution_count": 47
        }
      ]
    },
    {
      "cell_type": "code",
      "metadata": {
        "id": "7zP_41xSJ-ta"
      },
      "source": [
        "# Representing feature 'description' as lists of ints (indices of words)\n",
        "\n",
        "description_embed_train = tokenize.texts_to_sequences(X_train_df['description'])\n",
        "description_embed_val = tokenize.texts_to_sequences(X_val_df['description'])\n",
        "description_embed_test = tokenize.texts_to_sequences(X_test_df['description'])"
      ],
      "execution_count": null,
      "outputs": []
    },
    {
      "cell_type": "code",
      "metadata": {
        "colab": {
          "base_uri": "https://localhost:8080/"
        },
        "id": "riTNQlbWYa50",
        "outputId": "1a9216dd-c6b1-488e-88ee-df52743928c0"
      },
      "source": [
        "tokenize.texts_to_sequences(['Some string'])"
      ],
      "execution_count": null,
      "outputs": [
        {
          "output_type": "execute_result",
          "data": {
            "text/plain": [
              "[[78, 5849]]"
            ]
          },
          "metadata": {},
          "execution_count": 50
        }
      ]
    },
    {
      "cell_type": "code",
      "metadata": {
        "colab": {
          "base_uri": "https://localhost:8080/"
        },
        "id": "Xjv5eD1PYtNI",
        "outputId": "e07a4dc8-0ef6-4716-da53-f8c22cd9daec"
      },
      "source": [
        "tokenize.texts_to_sequences(['Some string', 'String with four words'])"
      ],
      "execution_count": null,
      "outputs": [
        {
          "output_type": "execute_result",
          "data": {
            "text/plain": [
              "[[78, 5849], [5849, 5, 793, 3931]]"
            ]
          },
          "metadata": {},
          "execution_count": 51
        }
      ]
    },
    {
      "cell_type": "code",
      "metadata": {
        "colab": {
          "base_uri": "https://localhost:8080/"
        },
        "id": "IX1cwN5_Kvlu",
        "outputId": "0853716f-9d86-4708-f909-a9b06b18f3d0"
      },
      "source": [
        "description_embed_train[0]"
      ],
      "execution_count": null,
      "outputs": [
        {
          "output_type": "execute_result",
          "data": {
            "text/plain": [
              "[121,\n",
              " 564,\n",
              " 41,\n",
              " 18,\n",
              " 270,\n",
              " 83,\n",
              " 12,\n",
              " 15,\n",
              " 2,\n",
              " 247,\n",
              " 700,\n",
              " 5,\n",
              " 3,\n",
              " 347,\n",
              " 631,\n",
              " 988,\n",
              " 3330,\n",
              " 88,\n",
              " 609,\n",
              " 2093,\n",
              " 6,\n",
              " 7,\n",
              " 2,\n",
              " 544,\n",
              " 202,\n",
              " 87,\n",
              " 9,\n",
              " 74,\n",
              " 39,\n",
              " 9,\n",
              " 151,\n",
              " 31,\n",
              " 346,\n",
              " 1,\n",
              " 478,\n",
              " 1746,\n",
              " 110,\n",
              " 1,\n",
              " 272,\n",
              " 9,\n",
              " 39,\n",
              " 228,\n",
              " 32]"
            ]
          },
          "metadata": {},
          "execution_count": 52
        }
      ]
    },
    {
      "cell_type": "code",
      "metadata": {
        "colab": {
          "base_uri": "https://localhost:8080/"
        },
        "id": "V8bvpwEDLQBV",
        "outputId": "03f1f21e-7f9a-4de8-c99e-d1d326cde04e"
      },
      "source": [
        "len(description_embed_train[0])"
      ],
      "execution_count": null,
      "outputs": [
        {
          "output_type": "execute_result",
          "data": {
            "text/plain": [
              "43"
            ]
          },
          "metadata": {},
          "execution_count": 53
        }
      ]
    },
    {
      "cell_type": "code",
      "metadata": {
        "colab": {
          "base_uri": "https://localhost:8080/"
        },
        "id": "h5fuIY7ALWyk",
        "outputId": "537b63f3-0a01-4fb2-ee15-61362029e520"
      },
      "source": [
        "lengths_of_lists = [len(each_list) for each_list in description_embed_train]\n",
        "max(lengths_of_lists)"
      ],
      "execution_count": null,
      "outputs": [
        {
          "output_type": "execute_result",
          "data": {
            "text/plain": [
              "128"
            ]
          },
          "metadata": {},
          "execution_count": 54
        }
      ]
    },
    {
      "cell_type": "code",
      "metadata": {
        "id": "HAptAdh9LbJF"
      },
      "source": [
        "# We need to set up the fixed length of input lists\n",
        "\n",
        "max_seq_length = max(lengths_of_lists)\n",
        "description_embed_train = keras.preprocessing.sequence.pad_sequences(description_embed_train, maxlen=max_seq_length)\n",
        "description_embed_val = keras.preprocessing.sequence.pad_sequences(description_embed_val, maxlen=max_seq_length)\n",
        "description_embed_test = keras.preprocessing.sequence.pad_sequences(description_embed_test, maxlen=max_seq_length)"
      ],
      "execution_count": null,
      "outputs": []
    },
    {
      "cell_type": "code",
      "metadata": {
        "colab": {
          "base_uri": "https://localhost:8080/"
        },
        "id": "0CZnifWnNqxt",
        "outputId": "860e6e60-9377-4790-ef33-3e3821a4534d"
      },
      "source": [
        "len(description_embed_train[0])"
      ],
      "execution_count": null,
      "outputs": [
        {
          "output_type": "execute_result",
          "data": {
            "text/plain": [
              "128"
            ]
          },
          "metadata": {},
          "execution_count": 56
        }
      ]
    },
    {
      "cell_type": "code",
      "metadata": {
        "id": "HhCc4aZDOB4C"
      },
      "source": [
        "# Create the model with embedding using Functional API\n",
        "\n",
        "output_embedding_dim = 12\n",
        "\n",
        "deep_inputs = layers.Input(shape=(max_seq_length,))\n",
        "embedding = layers.Embedding(vocab_size, output_embedding_dim, input_length=max_seq_length)(deep_inputs)\n",
        "flatten = layers.Flatten()(embedding)\n",
        "output = layers.Dense(1, activation='linear')(flatten)\n",
        "embedding_model = keras.Model(inputs=deep_inputs, outputs=output)"
      ],
      "execution_count": null,
      "outputs": []
    },
    {
      "cell_type": "code",
      "metadata": {
        "colab": {
          "base_uri": "https://localhost:8080/"
        },
        "id": "QtqjEHoiRpRz",
        "outputId": "c2c47197-d1ce-42ae-ec9c-d2e5f3db92e0"
      },
      "source": [
        "embedding_model.compile(loss='mse', optimizer='nadam', metrics=['mae'])\n",
        "embedding_model.summary()"
      ],
      "execution_count": null,
      "outputs": [
        {
          "output_type": "stream",
          "name": "stdout",
          "text": [
            "Model: \"model_2\"\n",
            "_________________________________________________________________\n",
            "Layer (type)                 Output Shape              Param #   \n",
            "=================================================================\n",
            "input_5 (InputLayer)         [(None, 128)]             0         \n",
            "_________________________________________________________________\n",
            "embedding (Embedding)        (None, 128, 12)           144000    \n",
            "_________________________________________________________________\n",
            "flatten (Flatten)            (None, 1536)              0         \n",
            "_________________________________________________________________\n",
            "dense_4 (Dense)              (None, 1)                 1537      \n",
            "=================================================================\n",
            "Total params: 145,537\n",
            "Trainable params: 145,537\n",
            "Non-trainable params: 0\n",
            "_________________________________________________________________\n"
          ]
        }
      ]
    },
    {
      "cell_type": "code",
      "metadata": {
        "id": "gCCaxc5XR5x3",
        "colab": {
          "base_uri": "https://localhost:8080/"
        },
        "outputId": "cc438456-38ea-49c1-a948-3baeb921d20c"
      },
      "source": [
        "history = embedding_model.fit(x=description_embed_train, y=y_train_df,\n",
        "                         batch_size=32, epochs=3, validation_data=(description_embed_val, y_val_df))"
      ],
      "execution_count": null,
      "outputs": [
        {
          "output_type": "stream",
          "name": "stdout",
          "text": [
            "Epoch 1/3\n",
            "600/600 [==============================] - 2s 3ms/step - loss: 1713.7610 - mae: 22.1522 - val_loss: 3525.5872 - val_mae: 20.7492\n",
            "Epoch 2/3\n",
            "600/600 [==============================] - 2s 3ms/step - loss: 1368.6581 - mae: 18.3138 - val_loss: 3363.6721 - val_mae: 18.9161\n",
            "Epoch 3/3\n",
            "600/600 [==============================] - 2s 3ms/step - loss: 1278.1736 - mae: 17.3057 - val_loss: 3291.2805 - val_mae: 18.6490\n"
          ]
        }
      ]
    },
    {
      "cell_type": "code",
      "metadata": {
        "id": "5jNene6fSZJE",
        "colab": {
          "base_uri": "https://localhost:8080/"
        },
        "outputId": "f681ed89-60a5-4fef-85ec-c33f06101ef4"
      },
      "source": [
        "embedding_model.evaluate(x=description_embed_test, y=y_test_df)"
      ],
      "execution_count": null,
      "outputs": [
        {
          "output_type": "stream",
          "name": "stdout",
          "text": [
            "188/188 [==============================] - 0s 2ms/step - loss: 3021.0947 - mae: 17.7926\n"
          ]
        },
        {
          "output_type": "execute_result",
          "data": {
            "text/plain": [
              "[3021.0947265625, 17.7925968170166]"
            ]
          },
          "metadata": {},
          "execution_count": 60
        }
      ]
    },
    {
      "cell_type": "code",
      "metadata": {
        "colab": {
          "base_uri": "https://localhost:8080/"
        },
        "id": "raPZNTTmTugU",
        "outputId": "400b7172-b537-4d8f-91ed-89af39ad9894"
      },
      "source": [
        "# Let's combine two models\n",
        "\n",
        "merged_out = layers.concatenate([wide_model.output, embedding_model.output])\n",
        "combined_out = layers.Dense(1, activation='linear')(merged_out)\n",
        "combined_model = keras.Model(list(wide_model.input) + [embedding_model.input], combined_out)\n",
        "combined_model.compile(loss='mse', optimizer='nadam', metrics=['mae'])\n",
        "combined_model.summary()"
      ],
      "execution_count": null,
      "outputs": [
        {
          "output_type": "stream",
          "name": "stdout",
          "text": [
            "Model: \"model_3\"\n",
            "__________________________________________________________________________________________________\n",
            "Layer (type)                    Output Shape         Param #     Connected to                     \n",
            "==================================================================================================\n",
            "input_3 (InputLayer)            [(None, 12000)]      0                                            \n",
            "__________________________________________________________________________________________________\n",
            "input_4 (InputLayer)            [(None, 40)]         0                                            \n",
            "__________________________________________________________________________________________________\n",
            "input_5 (InputLayer)            [(None, 128)]        0                                            \n",
            "__________________________________________________________________________________________________\n",
            "concatenate_1 (Concatenate)     (None, 12040)        0           input_3[0][0]                    \n",
            "                                                                 input_4[0][0]                    \n",
            "__________________________________________________________________________________________________\n",
            "embedding (Embedding)           (None, 128, 12)      144000      input_5[0][0]                    \n",
            "__________________________________________________________________________________________________\n",
            "dense_2 (Dense)                 (None, 256)          3082496     concatenate_1[0][0]              \n",
            "__________________________________________________________________________________________________\n",
            "flatten (Flatten)               (None, 1536)         0           embedding[0][0]                  \n",
            "__________________________________________________________________________________________________\n",
            "dense_3 (Dense)                 (None, 1)            257         dense_2[0][0]                    \n",
            "__________________________________________________________________________________________________\n",
            "dense_4 (Dense)                 (None, 1)            1537        flatten[0][0]                    \n",
            "__________________________________________________________________________________________________\n",
            "concatenate_2 (Concatenate)     (None, 2)            0           dense_3[0][0]                    \n",
            "                                                                 dense_4[0][0]                    \n",
            "__________________________________________________________________________________________________\n",
            "dense_5 (Dense)                 (None, 1)            3           concatenate_2[0][0]              \n",
            "==================================================================================================\n",
            "Total params: 3,228,293\n",
            "Trainable params: 3,228,293\n",
            "Non-trainable params: 0\n",
            "__________________________________________________________________________________________________\n"
          ]
        }
      ]
    },
    {
      "cell_type": "code",
      "metadata": {
        "colab": {
          "base_uri": "https://localhost:8080/"
        },
        "id": "xCCNyerCVX2g",
        "outputId": "7f126751-2145-4aba-98cf-70b3244ea244"
      },
      "source": [
        "history = combined_model.fit([description_bow_train, variety_train] + [description_embed_train], y=y_train_df,\n",
        "                         batch_size=32, epochs=5,\n",
        "                         validation_data=([description_bow_val, variety_val] + [description_embed_val], y_val_df))"
      ],
      "execution_count": null,
      "outputs": [
        {
          "output_type": "stream",
          "name": "stdout",
          "text": [
            "Epoch 1/5\n",
            "600/600 [==============================] - 35s 57ms/step - loss: 934.7758 - mae: 16.7499 - val_loss: 3050.9612 - val_mae: 19.9533\n",
            "Epoch 2/5\n",
            "600/600 [==============================] - 33s 55ms/step - loss: 774.0411 - mae: 14.3264 - val_loss: 3041.6726 - val_mae: 19.3702\n",
            "Epoch 3/5\n",
            "600/600 [==============================] - 32s 54ms/step - loss: 654.4995 - mae: 12.9906 - val_loss: 3017.8174 - val_mae: 20.0123\n",
            "Epoch 4/5\n",
            "600/600 [==============================] - 32s 54ms/step - loss: 516.6659 - mae: 11.7126 - val_loss: 3018.1072 - val_mae: 20.1278\n",
            "Epoch 5/5\n",
            "600/600 [==============================] - 33s 54ms/step - loss: 378.3639 - mae: 10.1148 - val_loss: 3030.7432 - val_mae: 20.2581\n"
          ]
        }
      ]
    },
    {
      "cell_type": "code",
      "metadata": {
        "colab": {
          "base_uri": "https://localhost:8080/"
        },
        "id": "nA2zB1v5alyA",
        "outputId": "67221e0f-e5d4-435f-9ad8-4ca97e94abfd"
      },
      "source": [
        "combined_model.evaluate(x=[description_bow_test, variety_test] + [description_embed_test], y=y_test_df)"
      ],
      "execution_count": null,
      "outputs": [
        {
          "output_type": "stream",
          "name": "stdout",
          "text": [
            "188/188 [==============================] - 2s 9ms/step - loss: 2687.8252 - mae: 19.2299\n"
          ]
        },
        {
          "output_type": "execute_result",
          "data": {
            "text/plain": [
              "[2687.8251953125, 19.22991943359375]"
            ]
          },
          "metadata": {},
          "execution_count": 63
        }
      ]
    },
    {
      "cell_type": "code",
      "metadata": {
        "id": "9gfpmPkUbVGa"
      },
      "source": [
        "predictions = combined_model.predict([description_bow_test, variety_test] + [description_embed_test])"
      ],
      "execution_count": null,
      "outputs": []
    },
    {
      "cell_type": "code",
      "metadata": {
        "colab": {
          "base_uri": "https://localhost:8080/"
        },
        "id": "hjU_EYWvbh2e",
        "outputId": "90e4c671-cac7-4a98-8593-bd23166cddc1"
      },
      "source": [
        "for i in range(5):\n",
        "  val = predictions[i]\n",
        "  print(X_train_df.description.iloc[i])\n",
        "  print('Predicted: ', val[0], '; Actual: ', y_test_df.iloc[i], '\\n')"
      ],
      "execution_count": null,
      "outputs": [
        {
          "output_type": "stream",
          "name": "stdout",
          "text": [
            "So luscious now, it's hard not to finish the bottle, especially with a grilled steak, lamb chop or mushroom risotto. This is the winery's best Pinot in years, rich in cola, red currants and sandalwood, smoothly tannic, and aged in rich, toasty oak.\n",
            "Predicted:  43.63249 ; Actual:  36.0 \n",
            "\n",
            "A stalwart, sturdy rendering, this smells like ripe plums and dark spices. It tastes full of fruit but is shaded nicely by slightly smoky, peppery notes. The body is full and the texture firm with tannins and acidity. Best drink this after 2018.\n",
            "Predicted:  13.643045 ; Actual:  27.0 \n",
            "\n",
            "Smoke and violet perfume are seductive on this elegant off-dry Riesling. Fresh green apple and pear flavors are tart but concentrated, wrapping up tightly with a squeaky-clean, lemon-lime finish.\n",
            "Predicted:  18.499884 ; Actual:  30.0 \n",
            "\n",
            "Waves of purple floral fragrance meld with soy, blackberry and roast lamb on the nose of this complex and compelling bottling. It's quite soft on the palate, with black plum and hoisin sauce flavors accenting its core of dried purple fruit, black pepper and bacon fat. The finish offers a touch of maple syrup.\n",
            "Predicted:  35.282875 ; Actual:  25.0 \n",
            "\n",
            "Meat, compost and leather notes mark the entry of this Syrah blended with smaller amounts of Mourvèdre and Petite Sirah. Light black pepper and red fruit flavors are sustained by a soft, round texture and lingering finish.\n",
            "Predicted:  32.16747 ; Actual:  42.0 \n",
            "\n"
          ]
        }
      ]
    }
  ]
}